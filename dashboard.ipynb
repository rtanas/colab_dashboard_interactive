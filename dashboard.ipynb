{
  "nbformat": 4,
  "nbformat_minor": 0,
  "metadata": {
    "colab": {
      "provenance": [],
      "collapsed_sections": [
        "XW-Ewl7skxDp",
        "Znf2Ppn9qE66"
      ],
      "include_colab_link": true
    },
    "kernelspec": {
      "name": "python3",
      "display_name": "Python 3"
    },
    "widgets": {
      "application/vnd.jupyter.widget-state+json": {
        "47b9bd798c014dedbcdd117b19413977": {
          "model_module": "@jupyter-widgets/controls",
          "model_name": "DropdownModel",
          "model_module_version": "1.5.0",
          "state": {
            "_dom_classes": [],
            "_model_module": "@jupyter-widgets/controls",
            "_model_module_version": "1.5.0",
            "_model_name": "DropdownModel",
            "_options_labels": [
              "PurchAmount",
              "Cost",
              "Quantity"
            ],
            "_view_count": null,
            "_view_module": "@jupyter-widgets/controls",
            "_view_module_version": "1.5.0",
            "_view_name": "DropdownView",
            "description": "Y variable:",
            "description_tooltip": null,
            "disabled": false,
            "index": 1,
            "layout": "IPY_MODEL_043f30bc3d3447808e1e93eb6ecdef4f",
            "style": "IPY_MODEL_d316e8484845411cb847ec07ec269c85"
          }
        },
        "043f30bc3d3447808e1e93eb6ecdef4f": {
          "model_module": "@jupyter-widgets/base",
          "model_name": "LayoutModel",
          "model_module_version": "1.2.0",
          "state": {
            "_model_module": "@jupyter-widgets/base",
            "_model_module_version": "1.2.0",
            "_model_name": "LayoutModel",
            "_view_count": null,
            "_view_module": "@jupyter-widgets/base",
            "_view_module_version": "1.2.0",
            "_view_name": "LayoutView",
            "align_content": null,
            "align_items": null,
            "align_self": null,
            "border": null,
            "bottom": null,
            "display": null,
            "flex": null,
            "flex_flow": null,
            "grid_area": null,
            "grid_auto_columns": null,
            "grid_auto_flow": null,
            "grid_auto_rows": null,
            "grid_column": null,
            "grid_gap": null,
            "grid_row": null,
            "grid_template_areas": null,
            "grid_template_columns": null,
            "grid_template_rows": null,
            "height": null,
            "justify_content": null,
            "justify_items": null,
            "left": null,
            "margin": null,
            "max_height": null,
            "max_width": null,
            "min_height": null,
            "min_width": null,
            "object_fit": null,
            "object_position": null,
            "order": null,
            "overflow": null,
            "overflow_x": null,
            "overflow_y": null,
            "padding": null,
            "right": null,
            "top": null,
            "visibility": null,
            "width": null
          }
        },
        "d316e8484845411cb847ec07ec269c85": {
          "model_module": "@jupyter-widgets/controls",
          "model_name": "DescriptionStyleModel",
          "model_module_version": "1.5.0",
          "state": {
            "_model_module": "@jupyter-widgets/controls",
            "_model_module_version": "1.5.0",
            "_model_name": "DescriptionStyleModel",
            "_view_count": null,
            "_view_module": "@jupyter-widgets/base",
            "_view_module_version": "1.2.0",
            "_view_name": "StyleView",
            "description_width": ""
          }
        },
        "bd2d5b87e3eb469c97dfe62d4ef6dbd6": {
          "model_module": "@jupyter-widgets/controls",
          "model_name": "DropdownModel",
          "model_module_version": "1.5.0",
          "state": {
            "_dom_classes": [],
            "_model_module": "@jupyter-widgets/controls",
            "_model_module_version": "1.5.0",
            "_model_name": "DropdownModel",
            "_options_labels": [
              "PurchAmount",
              "Cost",
              "Quantity"
            ],
            "_view_count": null,
            "_view_module": "@jupyter-widgets/controls",
            "_view_module_version": "1.5.0",
            "_view_name": "DropdownView",
            "description": "X variable:",
            "description_tooltip": null,
            "disabled": false,
            "index": 0,
            "layout": "IPY_MODEL_98eed529bce34cee8dc5821912ce791e",
            "style": "IPY_MODEL_5e08b69f7ba94c7bb4fba9e8b8b581fa"
          }
        },
        "98eed529bce34cee8dc5821912ce791e": {
          "model_module": "@jupyter-widgets/base",
          "model_name": "LayoutModel",
          "model_module_version": "1.2.0",
          "state": {
            "_model_module": "@jupyter-widgets/base",
            "_model_module_version": "1.2.0",
            "_model_name": "LayoutModel",
            "_view_count": null,
            "_view_module": "@jupyter-widgets/base",
            "_view_module_version": "1.2.0",
            "_view_name": "LayoutView",
            "align_content": null,
            "align_items": null,
            "align_self": null,
            "border": null,
            "bottom": null,
            "display": null,
            "flex": null,
            "flex_flow": null,
            "grid_area": null,
            "grid_auto_columns": null,
            "grid_auto_flow": null,
            "grid_auto_rows": null,
            "grid_column": null,
            "grid_gap": null,
            "grid_row": null,
            "grid_template_areas": null,
            "grid_template_columns": null,
            "grid_template_rows": null,
            "height": null,
            "justify_content": null,
            "justify_items": null,
            "left": null,
            "margin": null,
            "max_height": null,
            "max_width": null,
            "min_height": null,
            "min_width": null,
            "object_fit": null,
            "object_position": null,
            "order": null,
            "overflow": null,
            "overflow_x": null,
            "overflow_y": null,
            "padding": null,
            "right": null,
            "top": null,
            "visibility": null,
            "width": null
          }
        },
        "5e08b69f7ba94c7bb4fba9e8b8b581fa": {
          "model_module": "@jupyter-widgets/controls",
          "model_name": "DescriptionStyleModel",
          "model_module_version": "1.5.0",
          "state": {
            "_model_module": "@jupyter-widgets/controls",
            "_model_module_version": "1.5.0",
            "_model_name": "DescriptionStyleModel",
            "_view_count": null,
            "_view_module": "@jupyter-widgets/base",
            "_view_module_version": "1.2.0",
            "_view_name": "StyleView",
            "description_width": ""
          }
        },
        "36a6a193e1c849c38c52d41e2a531a7e": {
          "model_module": "@jupyter-widgets/output",
          "model_name": "OutputModel",
          "model_module_version": "1.0.0",
          "state": {
            "_dom_classes": [],
            "_model_module": "@jupyter-widgets/output",
            "_model_module_version": "1.0.0",
            "_model_name": "OutputModel",
            "_view_count": null,
            "_view_module": "@jupyter-widgets/output",
            "_view_module_version": "1.0.0",
            "_view_name": "OutputView",
            "layout": "IPY_MODEL_5ed772fef167404d9c0792d5a38437ac",
            "msg_id": "",
            "outputs": [
              {
                "output_type": "display_data",
                "data": {
                  "text/plain": "<Figure size 432x288 with 1 Axes>",
                  "image/png": "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\n"
                },
                "metadata": {
                  "needs_background": "light"
                }
              }
            ]
          }
        },
        "5ed772fef167404d9c0792d5a38437ac": {
          "model_module": "@jupyter-widgets/base",
          "model_name": "LayoutModel",
          "model_module_version": "1.2.0",
          "state": {
            "_model_module": "@jupyter-widgets/base",
            "_model_module_version": "1.2.0",
            "_model_name": "LayoutModel",
            "_view_count": null,
            "_view_module": "@jupyter-widgets/base",
            "_view_module_version": "1.2.0",
            "_view_name": "LayoutView",
            "align_content": null,
            "align_items": null,
            "align_self": null,
            "border": null,
            "bottom": null,
            "display": null,
            "flex": null,
            "flex_flow": null,
            "grid_area": null,
            "grid_auto_columns": null,
            "grid_auto_flow": null,
            "grid_auto_rows": null,
            "grid_column": null,
            "grid_gap": null,
            "grid_row": null,
            "grid_template_areas": null,
            "grid_template_columns": null,
            "grid_template_rows": null,
            "height": null,
            "justify_content": null,
            "justify_items": null,
            "left": null,
            "margin": null,
            "max_height": null,
            "max_width": null,
            "min_height": null,
            "min_width": null,
            "object_fit": null,
            "object_position": null,
            "order": null,
            "overflow": null,
            "overflow_x": null,
            "overflow_y": null,
            "padding": null,
            "right": null,
            "top": null,
            "visibility": null,
            "width": null
          }
        }
      }
    }
  },
  "cells": [
    {
      "cell_type": "markdown",
      "metadata": {
        "id": "view-in-github",
        "colab_type": "text"
      },
      "source": [
        "<a href=\"https://colab.research.google.com/github/rtanas/colab_dashboard_interactive/blob/main/dashboard.ipynb\" target=\"_parent\"><img src=\"https://colab.research.google.com/assets/colab-badge.svg\" alt=\"Open In Colab\"/></a>"
      ]
    },
    {
      "cell_type": "markdown",
      "metadata": {
        "id": "cCjAe20VdlxO"
      },
      "source": [
        "#Python - Non-technical introduction\n",
        "\n",
        "## Interactive dashboard\n",
        "\n",
        "*Note:* If you want to make changes to this document, you need to save your own copy on Github using the \"Save copy in Github\" command in the \"File\" menu."
      ]
    },
    {
      "cell_type": "markdown",
      "metadata": {
        "id": "qpmzcnuFlexj"
      },
      "source": [
        "###Preparation\n",
        "\n",
        "**Make sure to run the follwing code before continuing.** Code will prepare everything (load data, ...)."
      ]
    },
    {
      "cell_type": "code",
      "source": [
        "import pandas as pd\n",
        "import matplotlib.pyplot as plt\n",
        "import ipywidgets as widgets\n"
      ],
      "metadata": {
        "id": "Tnvkv0jBuOJ3"
      },
      "execution_count": 1,
      "outputs": []
    },
    {
      "cell_type": "code",
      "metadata": {
        "id": "sD_8-FV6lZVl"
      },
      "source": [
        "myData=pd.read_csv(\"https://raw.githubusercontent.com/bachmannpatrick/Python-Class/master/data/transactions.csv\")"
      ],
      "execution_count": 2,
      "outputs": []
    },
    {
      "cell_type": "markdown",
      "metadata": {
        "id": "XW-Ewl7skxDp"
      },
      "source": [
        "## Create interactive plots"
      ]
    },
    {
      "cell_type": "markdown",
      "source": [
        "Create the dropdown menus"
      ],
      "metadata": {
        "id": "t_ocBhlAwBL2"
      }
    },
    {
      "cell_type": "code",
      "source": [
        "x_dropdown = widgets.Dropdown(\n",
        "    options=['PurchAmount', 'Cost', \"Quantity\"],\n",
        "    value='PurchAmount',\n",
        "    description='X variable:',\n",
        "    disabled=False,\n",
        ")\n",
        "\n",
        "y_dropdown = widgets.Dropdown(\n",
        "    options=['PurchAmount', 'Cost', \"Quantity\"],\n",
        "    value='PurchAmount',\n",
        "    description='Y variable:',\n",
        "    disabled=False,\n",
        ")"
      ],
      "metadata": {
        "id": "kprtZ1rMe-Vq"
      },
      "execution_count": 9,
      "outputs": []
    },
    {
      "cell_type": "markdown",
      "source": [
        "Define the function that creates the scatterplot."
      ],
      "metadata": {
        "id": "pKJb-C8CwEQD"
      }
    },
    {
      "cell_type": "code",
      "source": [
        "def create_plot(xvar, yvar):\n",
        "  plt.scatter(x=myData[xvar], y=myData[yvar])\n",
        "  plt.xlabel(xvar, size=10)\n",
        "  plt.ylabel(yvar, size=10)\n",
        "  plt.show()"
      ],
      "metadata": {
        "id": "iUwzTf1BdQo0"
      },
      "execution_count": 12,
      "outputs": []
    },
    {
      "cell_type": "markdown",
      "source": [
        "Link the input widgets and the output"
      ],
      "metadata": {
        "id": "UpaQi614wsuI"
      }
    },
    {
      "cell_type": "code",
      "source": [
        "out = widgets.interactive_output(create_plot, {'xvar': x_dropdown, 'yvar': y_dropdown})"
      ],
      "metadata": {
        "id": "Lkjr3slHww9U"
      },
      "execution_count": 14,
      "outputs": []
    },
    {
      "cell_type": "markdown",
      "source": [
        "Display the input widgets and the output"
      ],
      "metadata": {
        "id": "9d7ePcuZRmbs"
      }
    },
    {
      "cell_type": "code",
      "source": [
        "display(y_dropdown, x_dropdown, out)"
      ],
      "metadata": {
        "id": "X77fWjoNRqIo",
        "outputId": "6aba34fb-9d4b-4ebe-86cf-d4c38deae052",
        "colab": {
          "base_uri": "https://localhost:8080/",
          "height": 361,
          "referenced_widgets": [
            "47b9bd798c014dedbcdd117b19413977",
            "043f30bc3d3447808e1e93eb6ecdef4f",
            "d316e8484845411cb847ec07ec269c85",
            "bd2d5b87e3eb469c97dfe62d4ef6dbd6",
            "98eed529bce34cee8dc5821912ce791e",
            "5e08b69f7ba94c7bb4fba9e8b8b581fa",
            "36a6a193e1c849c38c52d41e2a531a7e",
            "5ed772fef167404d9c0792d5a38437ac"
          ]
        }
      },
      "execution_count": 15,
      "outputs": [
        {
          "output_type": "display_data",
          "data": {
            "text/plain": [
              "Dropdown(description='Y variable:', index=1, options=('PurchAmount', 'Cost', 'Quantity'), value='Cost')"
            ],
            "application/vnd.jupyter.widget-view+json": {
              "version_major": 2,
              "version_minor": 0,
              "model_id": "47b9bd798c014dedbcdd117b19413977"
            }
          },
          "metadata": {}
        },
        {
          "output_type": "display_data",
          "data": {
            "text/plain": [
              "Dropdown(description='X variable:', options=('PurchAmount', 'Cost', 'Quantity'), value='PurchAmount')"
            ],
            "application/vnd.jupyter.widget-view+json": {
              "version_major": 2,
              "version_minor": 0,
              "model_id": "bd2d5b87e3eb469c97dfe62d4ef6dbd6"
            }
          },
          "metadata": {}
        },
        {
          "output_type": "display_data",
          "data": {
            "text/plain": [
              "Output()"
            ],
            "application/vnd.jupyter.widget-view+json": {
              "version_major": 2,
              "version_minor": 0,
              "model_id": "36a6a193e1c849c38c52d41e2a531a7e"
            }
          },
          "metadata": {}
        }
      ]
    }
  ]
}