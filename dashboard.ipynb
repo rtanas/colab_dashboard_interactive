{
  "nbformat": 4,
  "nbformat_minor": 0,
  "metadata": {
    "colab": {
      "provenance": [],
      "collapsed_sections": [
        "XW-Ewl7skxDp",
        "Znf2Ppn9qE66"
      ],
      "include_colab_link": true
    },
    "kernelspec": {
      "name": "python3",
      "display_name": "Python 3"
    },
    "widgets": {
      "application/vnd.jupyter.widget-state+json": {
        "5c1f9175f268487197da3512d9991d1b": {
          "model_module": "@jupyter-widgets/controls",
          "model_name": "DropdownModel",
          "model_module_version": "1.5.0",
          "state": {
            "_dom_classes": [],
            "_model_module": "@jupyter-widgets/controls",
            "_model_module_version": "1.5.0",
            "_model_name": "DropdownModel",
            "_options_labels": [
              "PurchAmount",
              "Cost",
              "Quantity"
            ],
            "_view_count": null,
            "_view_module": "@jupyter-widgets/controls",
            "_view_module_version": "1.5.0",
            "_view_name": "DropdownView",
            "description": "Y variable:",
            "description_tooltip": null,
            "disabled": false,
            "index": 2,
            "layout": "IPY_MODEL_a16916f823bb463fa7ac8d96195bf07b",
            "style": "IPY_MODEL_8dc3bff1c8dd4092829031b46de34ca5"
          }
        },
        "a16916f823bb463fa7ac8d96195bf07b": {
          "model_module": "@jupyter-widgets/base",
          "model_name": "LayoutModel",
          "model_module_version": "1.2.0",
          "state": {
            "_model_module": "@jupyter-widgets/base",
            "_model_module_version": "1.2.0",
            "_model_name": "LayoutModel",
            "_view_count": null,
            "_view_module": "@jupyter-widgets/base",
            "_view_module_version": "1.2.0",
            "_view_name": "LayoutView",
            "align_content": null,
            "align_items": null,
            "align_self": null,
            "border": null,
            "bottom": null,
            "display": null,
            "flex": null,
            "flex_flow": null,
            "grid_area": null,
            "grid_auto_columns": null,
            "grid_auto_flow": null,
            "grid_auto_rows": null,
            "grid_column": null,
            "grid_gap": null,
            "grid_row": null,
            "grid_template_areas": null,
            "grid_template_columns": null,
            "grid_template_rows": null,
            "height": null,
            "justify_content": null,
            "justify_items": null,
            "left": null,
            "margin": null,
            "max_height": null,
            "max_width": null,
            "min_height": null,
            "min_width": null,
            "object_fit": null,
            "object_position": null,
            "order": null,
            "overflow": null,
            "overflow_x": null,
            "overflow_y": null,
            "padding": null,
            "right": null,
            "top": null,
            "visibility": null,
            "width": null
          }
        },
        "8dc3bff1c8dd4092829031b46de34ca5": {
          "model_module": "@jupyter-widgets/controls",
          "model_name": "DescriptionStyleModel",
          "model_module_version": "1.5.0",
          "state": {
            "_model_module": "@jupyter-widgets/controls",
            "_model_module_version": "1.5.0",
            "_model_name": "DescriptionStyleModel",
            "_view_count": null,
            "_view_module": "@jupyter-widgets/base",
            "_view_module_version": "1.2.0",
            "_view_name": "StyleView",
            "description_width": ""
          }
        },
        "b1e46acb3be848b6a09ce7b63941fd34": {
          "model_module": "@jupyter-widgets/controls",
          "model_name": "DropdownModel",
          "model_module_version": "1.5.0",
          "state": {
            "_dom_classes": [],
            "_model_module": "@jupyter-widgets/controls",
            "_model_module_version": "1.5.0",
            "_model_name": "DropdownModel",
            "_options_labels": [
              "PurchAmount",
              "Cost",
              "Quantity"
            ],
            "_view_count": null,
            "_view_module": "@jupyter-widgets/controls",
            "_view_module_version": "1.5.0",
            "_view_name": "DropdownView",
            "description": "X variable:",
            "description_tooltip": null,
            "disabled": false,
            "index": 0,
            "layout": "IPY_MODEL_da5a9221dd2149b0b4e65580105ae3c3",
            "style": "IPY_MODEL_f585481482e24ef8ab80c710b37d2536"
          }
        },
        "da5a9221dd2149b0b4e65580105ae3c3": {
          "model_module": "@jupyter-widgets/base",
          "model_name": "LayoutModel",
          "model_module_version": "1.2.0",
          "state": {
            "_model_module": "@jupyter-widgets/base",
            "_model_module_version": "1.2.0",
            "_model_name": "LayoutModel",
            "_view_count": null,
            "_view_module": "@jupyter-widgets/base",
            "_view_module_version": "1.2.0",
            "_view_name": "LayoutView",
            "align_content": null,
            "align_items": null,
            "align_self": null,
            "border": null,
            "bottom": null,
            "display": null,
            "flex": null,
            "flex_flow": null,
            "grid_area": null,
            "grid_auto_columns": null,
            "grid_auto_flow": null,
            "grid_auto_rows": null,
            "grid_column": null,
            "grid_gap": null,
            "grid_row": null,
            "grid_template_areas": null,
            "grid_template_columns": null,
            "grid_template_rows": null,
            "height": null,
            "justify_content": null,
            "justify_items": null,
            "left": null,
            "margin": null,
            "max_height": null,
            "max_width": null,
            "min_height": null,
            "min_width": null,
            "object_fit": null,
            "object_position": null,
            "order": null,
            "overflow": null,
            "overflow_x": null,
            "overflow_y": null,
            "padding": null,
            "right": null,
            "top": null,
            "visibility": null,
            "width": null
          }
        },
        "f585481482e24ef8ab80c710b37d2536": {
          "model_module": "@jupyter-widgets/controls",
          "model_name": "DescriptionStyleModel",
          "model_module_version": "1.5.0",
          "state": {
            "_model_module": "@jupyter-widgets/controls",
            "_model_module_version": "1.5.0",
            "_model_name": "DescriptionStyleModel",
            "_view_count": null,
            "_view_module": "@jupyter-widgets/base",
            "_view_module_version": "1.2.0",
            "_view_name": "StyleView",
            "description_width": ""
          }
        },
        "2020bff53d614a78b4dbb808ac8eea49": {
          "model_module": "@jupyter-widgets/output",
          "model_name": "OutputModel",
          "model_module_version": "1.0.0",
          "state": {
            "_dom_classes": [],
            "_model_module": "@jupyter-widgets/output",
            "_model_module_version": "1.0.0",
            "_model_name": "OutputModel",
            "_view_count": null,
            "_view_module": "@jupyter-widgets/output",
            "_view_module_version": "1.0.0",
            "_view_name": "OutputView",
            "layout": "IPY_MODEL_75d8c745b2e84d3787cf7dadadcdf3f2",
            "msg_id": "",
            "outputs": [
              {
                "output_type": "display_data",
                "data": {
                  "text/plain": "<Figure size 432x288 with 1 Axes>",
                  "image/png": "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\n"
                },
                "metadata": {
                  "needs_background": "light"
                }
              }
            ]
          }
        },
        "75d8c745b2e84d3787cf7dadadcdf3f2": {
          "model_module": "@jupyter-widgets/base",
          "model_name": "LayoutModel",
          "model_module_version": "1.2.0",
          "state": {
            "_model_module": "@jupyter-widgets/base",
            "_model_module_version": "1.2.0",
            "_model_name": "LayoutModel",
            "_view_count": null,
            "_view_module": "@jupyter-widgets/base",
            "_view_module_version": "1.2.0",
            "_view_name": "LayoutView",
            "align_content": null,
            "align_items": null,
            "align_self": null,
            "border": null,
            "bottom": null,
            "display": null,
            "flex": null,
            "flex_flow": null,
            "grid_area": null,
            "grid_auto_columns": null,
            "grid_auto_flow": null,
            "grid_auto_rows": null,
            "grid_column": null,
            "grid_gap": null,
            "grid_row": null,
            "grid_template_areas": null,
            "grid_template_columns": null,
            "grid_template_rows": null,
            "height": null,
            "justify_content": null,
            "justify_items": null,
            "left": null,
            "margin": null,
            "max_height": null,
            "max_width": null,
            "min_height": null,
            "min_width": null,
            "object_fit": null,
            "object_position": null,
            "order": null,
            "overflow": null,
            "overflow_x": null,
            "overflow_y": null,
            "padding": null,
            "right": null,
            "top": null,
            "visibility": null,
            "width": null
          }
        }
      }
    }
  },
  "cells": [
    {
      "cell_type": "markdown",
      "metadata": {
        "id": "view-in-github",
        "colab_type": "text"
      },
      "source": [
        "<a href=\"https://colab.research.google.com/github/rtanas/colab_dashboard_interactive/blob/main/dashboard.ipynb\" target=\"_parent\"><img src=\"https://colab.research.google.com/assets/colab-badge.svg\" alt=\"Open In Colab\"/></a>"
      ]
    },
    {
      "cell_type": "markdown",
      "metadata": {
        "id": "cCjAe20VdlxO"
      },
      "source": [
        "#Python - Non-technical introduction\n",
        "\n",
        "## Interactive dashboard\n",
        "\n",
        "*Note:* If you want to make changes to this document, you need to save your own copy on Github using the \"Save copy in Github\" command in the \"File\" menu."
      ]
    },
    {
      "cell_type": "markdown",
      "metadata": {
        "id": "qpmzcnuFlexj"
      },
      "source": [
        "###Preparation\n",
        "\n",
        "**Make sure to run the follwing code before continuing.** Code will prepare everything (load data, ...)."
      ]
    },
    {
      "cell_type": "code",
      "source": [
        "import pandas as pd\n",
        "import matplotlib.pyplot as plt\n",
        "import ipywidgets as widgets\n"
      ],
      "metadata": {
        "id": "Tnvkv0jBuOJ3"
      },
      "execution_count": 1,
      "outputs": []
    },
    {
      "cell_type": "code",
      "metadata": {
        "id": "sD_8-FV6lZVl"
      },
      "source": [
        "myData=pd.read_csv(\"https://raw.githubusercontent.com/bachmannpatrick/Python-Class/master/data/transactions.csv\")\n",
        "myData.head()"
      ],
      "execution_count": 2,
      "outputs": []
    },
    {
      "cell_type": "markdown",
      "metadata": {
        "id": "XW-Ewl7skxDp"
      },
      "source": [
        "## Create interactive plots"
      ]
    },
    {
      "cell_type": "markdown",
      "source": [
        "Create the dropdown menus"
      ],
      "metadata": {
        "id": "t_ocBhlAwBL2"
      }
    },
    {
      "cell_type": "code",
      "source": [
        "x_dropdown = widgets.Dropdown(\n",
        "    options=['PurchAmount', 'Cost', \"Quantity\"],\n",
        "    value='PurchAmount',\n",
        "    description='X variable:',\n",
        "    disabled=False,\n",
        ")\n",
        "\n",
        "y_dropdown = widgets.Dropdown(\n",
        "    options=['PurchAmount', 'Cost', \"Quantity\"],\n",
        "    value='PurchAmount',\n",
        "    description='Y variable:',\n",
        "    disabled=False,\n",
        ")"
      ],
      "metadata": {
        "id": "kprtZ1rMe-Vq"
      },
      "execution_count": 3,
      "outputs": []
    },
    {
      "cell_type": "markdown",
      "source": [
        "Define the function that creates the scatterplot."
      ],
      "metadata": {
        "id": "pKJb-C8CwEQD"
      }
    },
    {
      "cell_type": "code",
      "source": [
        "def create_plot(xvar, yvar):\n",
        "  plt.scatter(x=myData[xvar], y=myData[yvar])\n",
        "  plt.xlabel(xvar, size=10)\n",
        "  plt.ylabel(yvar, size=10)\n",
        "  plt.show()"
      ],
      "metadata": {
        "id": "iUwzTf1BdQo0"
      },
      "execution_count": 4,
      "outputs": []
    },
    {
      "cell_type": "markdown",
      "source": [
        "Link the input widgets and the output"
      ],
      "metadata": {
        "id": "UpaQi614wsuI"
      }
    },
    {
      "cell_type": "code",
      "source": [
        "out = widgets.interactive_output(create_plot, {'xvar': x_dropdown, 'yvar': y_dropdown})"
      ],
      "metadata": {
        "id": "Lkjr3slHww9U"
      },
      "execution_count": 5,
      "outputs": []
    },
    {
      "cell_type": "markdown",
      "source": [
        "Display the input widgets and the output"
      ],
      "metadata": {
        "id": "9d7ePcuZRmbs"
      }
    },
    {
      "cell_type": "code",
      "source": [
        "display(y_dropdown, x_dropdown, out)"
      ],
      "metadata": {
        "id": "X77fWjoNRqIo",
        "outputId": "81f03332-eeb7-403d-dd65-3e9dd1ead26a",
        "colab": {
          "base_uri": "https://localhost:8080/",
          "height": 361,
          "referenced_widgets": [
            "5c1f9175f268487197da3512d9991d1b",
            "a16916f823bb463fa7ac8d96195bf07b",
            "8dc3bff1c8dd4092829031b46de34ca5",
            "b1e46acb3be848b6a09ce7b63941fd34",
            "da5a9221dd2149b0b4e65580105ae3c3",
            "f585481482e24ef8ab80c710b37d2536",
            "2020bff53d614a78b4dbb808ac8eea49",
            "75d8c745b2e84d3787cf7dadadcdf3f2"
          ]
        }
      },
      "execution_count": 6,
      "outputs": [
        {
          "output_type": "display_data",
          "data": {
            "text/plain": [
              "Dropdown(description='Y variable:', options=('PurchAmount', 'Cost', 'Quantity'), value='PurchAmount')"
            ],
            "application/vnd.jupyter.widget-view+json": {
              "version_major": 2,
              "version_minor": 0,
              "model_id": "5c1f9175f268487197da3512d9991d1b"
            }
          },
          "metadata": {}
        },
        {
          "output_type": "display_data",
          "data": {
            "text/plain": [
              "Dropdown(description='X variable:', options=('PurchAmount', 'Cost', 'Quantity'), value='PurchAmount')"
            ],
            "application/vnd.jupyter.widget-view+json": {
              "version_major": 2,
              "version_minor": 0,
              "model_id": "b1e46acb3be848b6a09ce7b63941fd34"
            }
          },
          "metadata": {}
        },
        {
          "output_type": "display_data",
          "data": {
            "text/plain": [
              "Output()"
            ],
            "application/vnd.jupyter.widget-view+json": {
              "version_major": 2,
              "version_minor": 0,
              "model_id": "2020bff53d614a78b4dbb808ac8eea49"
            }
          },
          "metadata": {}
        }
      ]
    }
  ]
}