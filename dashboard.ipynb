{
  "nbformat": 4,
  "nbformat_minor": 0,
  "metadata": {
    "colab": {
      "provenance": [],
      "collapsed_sections": [
        "XW-Ewl7skxDp",
        "Znf2Ppn9qE66"
      ],
      "include_colab_link": true
    },
    "kernelspec": {
      "name": "python3",
      "display_name": "Python 3"
    },
    "widgets": {
      "application/vnd.jupyter.widget-state+json": {
        "9d631ff85d4142a39d0b555aa9adf141": {
          "model_module": "@jupyter-widgets/controls",
          "model_name": "DropdownModel",
          "model_module_version": "1.5.0",
          "state": {
            "_dom_classes": [],
            "_model_module": "@jupyter-widgets/controls",
            "_model_module_version": "1.5.0",
            "_model_name": "DropdownModel",
            "_options_labels": [
              "PurchAmount",
              "Cost",
              "Quantity"
            ],
            "_view_count": null,
            "_view_module": "@jupyter-widgets/controls",
            "_view_module_version": "1.5.0",
            "_view_name": "DropdownView",
            "description": "Variable:",
            "description_tooltip": null,
            "disabled": false,
            "index": 1,
            "layout": "IPY_MODEL_0827feadba9d463099bf21a967ab0d3b",
            "style": "IPY_MODEL_2f45695a4453471391d2fd818fc41de3"
          }
        },
        "0827feadba9d463099bf21a967ab0d3b": {
          "model_module": "@jupyter-widgets/base",
          "model_name": "LayoutModel",
          "model_module_version": "1.2.0",
          "state": {
            "_model_module": "@jupyter-widgets/base",
            "_model_module_version": "1.2.0",
            "_model_name": "LayoutModel",
            "_view_count": null,
            "_view_module": "@jupyter-widgets/base",
            "_view_module_version": "1.2.0",
            "_view_name": "LayoutView",
            "align_content": null,
            "align_items": null,
            "align_self": null,
            "border": null,
            "bottom": null,
            "display": null,
            "flex": null,
            "flex_flow": null,
            "grid_area": null,
            "grid_auto_columns": null,
            "grid_auto_flow": null,
            "grid_auto_rows": null,
            "grid_column": null,
            "grid_gap": null,
            "grid_row": null,
            "grid_template_areas": null,
            "grid_template_columns": null,
            "grid_template_rows": null,
            "height": null,
            "justify_content": null,
            "justify_items": null,
            "left": null,
            "margin": null,
            "max_height": null,
            "max_width": null,
            "min_height": null,
            "min_width": null,
            "object_fit": null,
            "object_position": null,
            "order": null,
            "overflow": null,
            "overflow_x": null,
            "overflow_y": null,
            "padding": null,
            "right": null,
            "top": null,
            "visibility": null,
            "width": null
          }
        },
        "2f45695a4453471391d2fd818fc41de3": {
          "model_module": "@jupyter-widgets/controls",
          "model_name": "DescriptionStyleModel",
          "model_module_version": "1.5.0",
          "state": {
            "_model_module": "@jupyter-widgets/controls",
            "_model_module_version": "1.5.0",
            "_model_name": "DescriptionStyleModel",
            "_view_count": null,
            "_view_module": "@jupyter-widgets/base",
            "_view_module_version": "1.2.0",
            "_view_name": "StyleView",
            "description_width": ""
          }
        },
        "8af4171fa10f46e4b05bea8061cc7c3c": {
          "model_module": "@jupyter-widgets/output",
          "model_name": "OutputModel",
          "model_module_version": "1.0.0",
          "state": {
            "_dom_classes": [],
            "_model_module": "@jupyter-widgets/output",
            "_model_module_version": "1.0.0",
            "_model_name": "OutputModel",
            "_view_count": null,
            "_view_module": "@jupyter-widgets/output",
            "_view_module_version": "1.0.0",
            "_view_name": "OutputView",
            "layout": "IPY_MODEL_8c615d5f2ef64ef39a9771a8a4af5a2d",
            "msg_id": "",
            "outputs": [
              {
                "output_type": "display_data",
                "data": {
                  "text/plain": "<Figure size 432x288 with 1 Axes>",
                  "image/png": "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\n"
                },
                "metadata": {
                  "needs_background": "light"
                }
              }
            ]
          }
        },
        "8c615d5f2ef64ef39a9771a8a4af5a2d": {
          "model_module": "@jupyter-widgets/base",
          "model_name": "LayoutModel",
          "model_module_version": "1.2.0",
          "state": {
            "_model_module": "@jupyter-widgets/base",
            "_model_module_version": "1.2.0",
            "_model_name": "LayoutModel",
            "_view_count": null,
            "_view_module": "@jupyter-widgets/base",
            "_view_module_version": "1.2.0",
            "_view_name": "LayoutView",
            "align_content": null,
            "align_items": null,
            "align_self": null,
            "border": null,
            "bottom": null,
            "display": null,
            "flex": null,
            "flex_flow": null,
            "grid_area": null,
            "grid_auto_columns": null,
            "grid_auto_flow": null,
            "grid_auto_rows": null,
            "grid_column": null,
            "grid_gap": null,
            "grid_row": null,
            "grid_template_areas": null,
            "grid_template_columns": null,
            "grid_template_rows": null,
            "height": null,
            "justify_content": null,
            "justify_items": null,
            "left": null,
            "margin": null,
            "max_height": null,
            "max_width": null,
            "min_height": null,
            "min_width": null,
            "object_fit": null,
            "object_position": null,
            "order": null,
            "overflow": null,
            "overflow_x": null,
            "overflow_y": null,
            "padding": null,
            "right": null,
            "top": null,
            "visibility": null,
            "width": null
          }
        }
      }
    }
  },
  "cells": [
    {
      "cell_type": "markdown",
      "metadata": {
        "id": "view-in-github",
        "colab_type": "text"
      },
      "source": [
        "<a href=\"https://colab.research.google.com/github/rtanas/colab_dashboard_interactive/blob/main/dashboard.ipynb\" target=\"_parent\"><img src=\"https://colab.research.google.com/assets/colab-badge.svg\" alt=\"Open In Colab\"/></a>"
      ]
    },
    {
      "cell_type": "markdown",
      "metadata": {
        "id": "cCjAe20VdlxO"
      },
      "source": [
        "#Python - Non-technical introduction\n",
        "\n",
        "## Interactive dashboard\n",
        "\n",
        "*Note:* If you want to make changes to this document, you need to save your own copy on Github using the \"Save copy in Github\" command in the \"File\" menu."
      ]
    },
    {
      "cell_type": "markdown",
      "metadata": {
        "id": "qpmzcnuFlexj"
      },
      "source": [
        "###Preparation\n",
        "\n",
        "**Make sure to run the follwing code before continuing.** Code will prepare everything (load data, ...)."
      ]
    },
    {
      "cell_type": "code",
      "source": [
        "pip install ipympl # Support for third party widgets (widgets outside of the ipywidgets package) needs to be enabled separately. Support for these widgets will be loaded from a CDN external from Colab.\n"
      ],
      "metadata": {
        "id": "HxBh40ERuHx0"
      },
      "execution_count": null,
      "outputs": []
    },
    {
      "cell_type": "code",
      "source": [
        "%matplotlib inline\n",
        "import pandas as pd\n",
        "import matplotlib.pyplot as plt\n",
        "import ipywidgets as widgets\n",
        "from google.colab import output # used to display the interactive table\n",
        "# from ipywidgets import interactive\n",
        "# import matplotlib.pyplot as plt\n",
        "# import numpy as np\n"
      ],
      "metadata": {
        "id": "Tnvkv0jBuOJ3"
      },
      "execution_count": 14,
      "outputs": []
    },
    {
      "cell_type": "code",
      "metadata": {
        "id": "sD_8-FV6lZVl"
      },
      "source": [
        "myData=pd.read_csv(\"https://raw.githubusercontent.com/bachmannpatrick/Python-Class/master/data/transactions.csv\")"
      ],
      "execution_count": 15,
      "outputs": []
    },
    {
      "cell_type": "markdown",
      "source": [
        "### Display interactive table"
      ],
      "metadata": {
        "id": "JMnedzSZvaxM"
      }
    },
    {
      "cell_type": "code",
      "source": [
        "output.enable_custom_widget_manager()\n",
        "myData.head()"
      ],
      "metadata": {
        "id": "kRGyjSa6vdRp",
        "outputId": "96253bf5-a991-417b-9dd6-673a7b1017ab",
        "colab": {
          "base_uri": "https://localhost:8080/",
          "height": 213
        }
      },
      "execution_count": 16,
      "outputs": [
        {
          "output_type": "execute_result",
          "data": {
            "text/plain": [
              "   Customer   TransDate  Quantity  PurchAmount    Cost    TransID\n",
              "0    149332  15.11.2005         1       199.95  107.00  127998739\n",
              "1    172951  29.08.2008         1       199.95  108.00  128888288\n",
              "2    120621  19.10.2007         1        99.95   49.00  125375247\n",
              "3    149236  14.11.2005         1        39.95   18.95  127996226\n",
              "4    149236  12.06.2007         1        79.95   35.00  128670302"
            ],
            "text/html": [
              "\n",
              "  <div id=\"df-3eacde2c-c85c-40d2-819a-5db23e57a48d\">\n",
              "    <div class=\"colab-df-container\">\n",
              "      <div>\n",
              "<style scoped>\n",
              "    .dataframe tbody tr th:only-of-type {\n",
              "        vertical-align: middle;\n",
              "    }\n",
              "\n",
              "    .dataframe tbody tr th {\n",
              "        vertical-align: top;\n",
              "    }\n",
              "\n",
              "    .dataframe thead th {\n",
              "        text-align: right;\n",
              "    }\n",
              "</style>\n",
              "<table border=\"1\" class=\"dataframe\">\n",
              "  <thead>\n",
              "    <tr style=\"text-align: right;\">\n",
              "      <th></th>\n",
              "      <th>Customer</th>\n",
              "      <th>TransDate</th>\n",
              "      <th>Quantity</th>\n",
              "      <th>PurchAmount</th>\n",
              "      <th>Cost</th>\n",
              "      <th>TransID</th>\n",
              "    </tr>\n",
              "  </thead>\n",
              "  <tbody>\n",
              "    <tr>\n",
              "      <th>0</th>\n",
              "      <td>149332</td>\n",
              "      <td>15.11.2005</td>\n",
              "      <td>1</td>\n",
              "      <td>199.95</td>\n",
              "      <td>107.00</td>\n",
              "      <td>127998739</td>\n",
              "    </tr>\n",
              "    <tr>\n",
              "      <th>1</th>\n",
              "      <td>172951</td>\n",
              "      <td>29.08.2008</td>\n",
              "      <td>1</td>\n",
              "      <td>199.95</td>\n",
              "      <td>108.00</td>\n",
              "      <td>128888288</td>\n",
              "    </tr>\n",
              "    <tr>\n",
              "      <th>2</th>\n",
              "      <td>120621</td>\n",
              "      <td>19.10.2007</td>\n",
              "      <td>1</td>\n",
              "      <td>99.95</td>\n",
              "      <td>49.00</td>\n",
              "      <td>125375247</td>\n",
              "    </tr>\n",
              "    <tr>\n",
              "      <th>3</th>\n",
              "      <td>149236</td>\n",
              "      <td>14.11.2005</td>\n",
              "      <td>1</td>\n",
              "      <td>39.95</td>\n",
              "      <td>18.95</td>\n",
              "      <td>127996226</td>\n",
              "    </tr>\n",
              "    <tr>\n",
              "      <th>4</th>\n",
              "      <td>149236</td>\n",
              "      <td>12.06.2007</td>\n",
              "      <td>1</td>\n",
              "      <td>79.95</td>\n",
              "      <td>35.00</td>\n",
              "      <td>128670302</td>\n",
              "    </tr>\n",
              "  </tbody>\n",
              "</table>\n",
              "</div>\n",
              "      <button class=\"colab-df-convert\" onclick=\"convertToInteractive('df-3eacde2c-c85c-40d2-819a-5db23e57a48d')\"\n",
              "              title=\"Convert this dataframe to an interactive table.\"\n",
              "              style=\"display:none;\">\n",
              "        \n",
              "  <svg xmlns=\"http://www.w3.org/2000/svg\" height=\"24px\"viewBox=\"0 0 24 24\"\n",
              "       width=\"24px\">\n",
              "    <path d=\"M0 0h24v24H0V0z\" fill=\"none\"/>\n",
              "    <path d=\"M18.56 5.44l.94 2.06.94-2.06 2.06-.94-2.06-.94-.94-2.06-.94 2.06-2.06.94zm-11 1L8.5 8.5l.94-2.06 2.06-.94-2.06-.94L8.5 2.5l-.94 2.06-2.06.94zm10 10l.94 2.06.94-2.06 2.06-.94-2.06-.94-.94-2.06-.94 2.06-2.06.94z\"/><path d=\"M17.41 7.96l-1.37-1.37c-.4-.4-.92-.59-1.43-.59-.52 0-1.04.2-1.43.59L10.3 9.45l-7.72 7.72c-.78.78-.78 2.05 0 2.83L4 21.41c.39.39.9.59 1.41.59.51 0 1.02-.2 1.41-.59l7.78-7.78 2.81-2.81c.8-.78.8-2.07 0-2.86zM5.41 20L4 18.59l7.72-7.72 1.47 1.35L5.41 20z\"/>\n",
              "  </svg>\n",
              "      </button>\n",
              "      \n",
              "  <style>\n",
              "    .colab-df-container {\n",
              "      display:flex;\n",
              "      flex-wrap:wrap;\n",
              "      gap: 12px;\n",
              "    }\n",
              "\n",
              "    .colab-df-convert {\n",
              "      background-color: #E8F0FE;\n",
              "      border: none;\n",
              "      border-radius: 50%;\n",
              "      cursor: pointer;\n",
              "      display: none;\n",
              "      fill: #1967D2;\n",
              "      height: 32px;\n",
              "      padding: 0 0 0 0;\n",
              "      width: 32px;\n",
              "    }\n",
              "\n",
              "    .colab-df-convert:hover {\n",
              "      background-color: #E2EBFA;\n",
              "      box-shadow: 0px 1px 2px rgba(60, 64, 67, 0.3), 0px 1px 3px 1px rgba(60, 64, 67, 0.15);\n",
              "      fill: #174EA6;\n",
              "    }\n",
              "\n",
              "    [theme=dark] .colab-df-convert {\n",
              "      background-color: #3B4455;\n",
              "      fill: #D2E3FC;\n",
              "    }\n",
              "\n",
              "    [theme=dark] .colab-df-convert:hover {\n",
              "      background-color: #434B5C;\n",
              "      box-shadow: 0px 1px 3px 1px rgba(0, 0, 0, 0.15);\n",
              "      filter: drop-shadow(0px 1px 2px rgba(0, 0, 0, 0.3));\n",
              "      fill: #FFFFFF;\n",
              "    }\n",
              "  </style>\n",
              "\n",
              "      <script>\n",
              "        const buttonEl =\n",
              "          document.querySelector('#df-3eacde2c-c85c-40d2-819a-5db23e57a48d button.colab-df-convert');\n",
              "        buttonEl.style.display =\n",
              "          google.colab.kernel.accessAllowed ? 'block' : 'none';\n",
              "\n",
              "        async function convertToInteractive(key) {\n",
              "          const element = document.querySelector('#df-3eacde2c-c85c-40d2-819a-5db23e57a48d');\n",
              "          const dataTable =\n",
              "            await google.colab.kernel.invokeFunction('convertToInteractive',\n",
              "                                                     [key], {});\n",
              "          if (!dataTable) return;\n",
              "\n",
              "          const docLinkHtml = 'Like what you see? Visit the ' +\n",
              "            '<a target=\"_blank\" href=https://colab.research.google.com/notebooks/data_table.ipynb>data table notebook</a>'\n",
              "            + ' to learn more about interactive tables.';\n",
              "          element.innerHTML = '';\n",
              "          dataTable['output_type'] = 'display_data';\n",
              "          await google.colab.output.renderOutput(dataTable, element);\n",
              "          const docLink = document.createElement('div');\n",
              "          docLink.innerHTML = docLinkHtml;\n",
              "          element.appendChild(docLink);\n",
              "        }\n",
              "      </script>\n",
              "    </div>\n",
              "  </div>\n",
              "  "
            ],
            "application/vnd.google.colaboratory.module+javascript": "\n      import \"https://ssl.gstatic.com/colaboratory/data_table/a8bd4d5e58f96183/data_table.js\";\n\n      window.createDataTable({\n        data: [[{\n            'v': 0,\n            'f': \"0\",\n        },\n{\n            'v': 149332,\n            'f': \"149332\",\n        },\n\"15.11.2005\",\n{\n            'v': 1,\n            'f': \"1\",\n        },\n{\n            'v': 199.95,\n            'f': \"199.95\",\n        },\n{\n            'v': 107.0,\n            'f': \"107.0\",\n        },\n{\n            'v': 127998739,\n            'f': \"127998739\",\n        }],\n [{\n            'v': 1,\n            'f': \"1\",\n        },\n{\n            'v': 172951,\n            'f': \"172951\",\n        },\n\"29.08.2008\",\n{\n            'v': 1,\n            'f': \"1\",\n        },\n{\n            'v': 199.95,\n            'f': \"199.95\",\n        },\n{\n            'v': 108.0,\n            'f': \"108.0\",\n        },\n{\n            'v': 128888288,\n            'f': \"128888288\",\n        }],\n [{\n            'v': 2,\n            'f': \"2\",\n        },\n{\n            'v': 120621,\n            'f': \"120621\",\n        },\n\"19.10.2007\",\n{\n            'v': 1,\n            'f': \"1\",\n        },\n{\n            'v': 99.95,\n            'f': \"99.95\",\n        },\n{\n            'v': 49.0,\n            'f': \"49.0\",\n        },\n{\n            'v': 125375247,\n            'f': \"125375247\",\n        }],\n [{\n            'v': 3,\n            'f': \"3\",\n        },\n{\n            'v': 149236,\n            'f': \"149236\",\n        },\n\"14.11.2005\",\n{\n            'v': 1,\n            'f': \"1\",\n        },\n{\n            'v': 39.95,\n            'f': \"39.95\",\n        },\n{\n            'v': 18.95,\n            'f': \"18.95\",\n        },\n{\n            'v': 127996226,\n            'f': \"127996226\",\n        }],\n [{\n            'v': 4,\n            'f': \"4\",\n        },\n{\n            'v': 149236,\n            'f': \"149236\",\n        },\n\"12.06.2007\",\n{\n            'v': 1,\n            'f': \"1\",\n        },\n{\n            'v': 79.95,\n            'f': \"79.95\",\n        },\n{\n            'v': 35.0,\n            'f': \"35.0\",\n        },\n{\n            'v': 128670302,\n            'f': \"128670302\",\n        }]],\n        columns: [[\"number\", \"index\"], [\"number\", \"Customer\"], [\"string\", \"TransDate\"], [\"number\", \"Quantity\"], [\"number\", \"PurchAmount\"], [\"number\", \"Cost\"], [\"number\", \"TransID\"]],\n        columnOptions: [{\"width\": \"1px\", \"className\": \"index_column\"}],\n        rowsPerPage: 25,\n        helpUrl: \"https://colab.research.google.com/notebooks/data_table.ipynb\",\n        suppressOutputScrolling: true,\n        minimumWidth: undefined,\n      });\n    "
          },
          "metadata": {},
          "execution_count": 16
        }
      ]
    },
    {
      "cell_type": "markdown",
      "metadata": {
        "id": "XW-Ewl7skxDp"
      },
      "source": [
        "## Create interactive plots"
      ]
    },
    {
      "cell_type": "markdown",
      "source": [
        "Create dropdown menus"
      ],
      "metadata": {
        "id": "t_ocBhlAwBL2"
      }
    },
    {
      "cell_type": "code",
      "source": [
        "x_dropdown = widgets.Dropdown(\n",
        "    options=['PurchAmount', 'Cost', \"Quantity\"],\n",
        "    value='PurchAmount',\n",
        "    description='Variable:',\n",
        "    disabled=False,\n",
        ")\n",
        "\n",
        "y_dropdown = widgets.Dropdown(\n",
        "    options=['PurchAmount', 'Cost', \"Quantity\"],\n",
        "    value='PurchAmount',\n",
        "    description='Variable:',\n",
        "    disabled=False,\n",
        ")"
      ],
      "metadata": {
        "id": "kprtZ1rMe-Vq"
      },
      "execution_count": 18,
      "outputs": []
    },
    {
      "cell_type": "markdown",
      "source": [
        "Define the function that creates the scatterplot."
      ],
      "metadata": {
        "id": "pKJb-C8CwEQD"
      }
    },
    {
      "cell_type": "code",
      "source": [
        "def create_plot(xvar, yvar):\n",
        "  plt.scatter(x=myData[xvar], y=myData[yvar])\n",
        "  # plt.xlabel(xvar, size=10)\n",
        "  # plt.ylabel(yvar, size=10)\n",
        "  plt.show()"
      ],
      "metadata": {
        "id": "iUwzTf1BdQo0"
      },
      "execution_count": 25,
      "outputs": []
    },
    {
      "cell_type": "markdown",
      "source": [
        "Generate the interactive plot"
      ],
      "metadata": {
        "id": "UpaQi614wsuI"
      }
    },
    {
      "cell_type": "code",
      "source": [
        "out = widgets.interactive_output(create_plot, {'xvar': x_dropdown, 'yvar': y_dropdown})\n",
        "display(x_dropdown, out)"
      ],
      "metadata": {
        "id": "Lkjr3slHww9U",
        "outputId": "2f08629a-1e15-4d38-9052-677bc5ec9fd6",
        "colab": {
          "base_uri": "https://localhost:8080/",
          "height": 286,
          "referenced_widgets": [
            "9d631ff85d4142a39d0b555aa9adf141",
            "0827feadba9d463099bf21a967ab0d3b",
            "2f45695a4453471391d2fd818fc41de3",
            "8af4171fa10f46e4b05bea8061cc7c3c",
            "8c615d5f2ef64ef39a9771a8a4af5a2d"
          ]
        }
      },
      "execution_count": 29,
      "outputs": [
        {
          "output_type": "display_data",
          "data": {
            "text/plain": [
              "<Figure size 432x288 with 1 Axes>"
            ],
            "image/png": "[encoded data removed]"
          },
          "metadata": {
            "needs_background": "light"
          }
        }
      ]
    }
  ]
}