{
  "nbformat": 4,
  "nbformat_minor": 0,
  "metadata": {
    "colab": {
      "provenance": [],
      "collapsed_sections": [
        "XW-Ewl7skxDp",
        "Znf2Ppn9qE66"
      ],
      "include_colab_link": true
    },
    "kernelspec": {
      "name": "python3",
      "display_name": "Python 3"
    },
    "widgets": {
      "application/vnd.jupyter.widget-state+json": {
        "66a1769498d54d0b8376ddac3b26e718": {
          "model_module": "@jupyter-widgets/controls",
          "model_name": "DropdownModel",
          "model_module_version": "1.5.0",
          "state": {
            "_dom_classes": [],
            "_model_module": "@jupyter-widgets/controls",
            "_model_module_version": "1.5.0",
            "_model_name": "DropdownModel",
            "_options_labels": [
              "PurchAmount",
              "Cost",
              "Quantity"
            ],
            "_view_count": null,
            "_view_module": "@jupyter-widgets/controls",
            "_view_module_version": "1.5.0",
            "_view_name": "DropdownView",
            "description": "Variable:",
            "description_tooltip": null,
            "disabled": false,
            "index": 0,
            "layout": "IPY_MODEL_055376b277d746d7bb3cc58edb408d79",
            "style": "IPY_MODEL_bc8c6e933653406a8f8a446f7d963337"
          }
        },
        "055376b277d746d7bb3cc58edb408d79": {
          "model_module": "@jupyter-widgets/base",
          "model_name": "LayoutModel",
          "model_module_version": "1.2.0",
          "state": {
            "_model_module": "@jupyter-widgets/base",
            "_model_module_version": "1.2.0",
            "_model_name": "LayoutModel",
            "_view_count": null,
            "_view_module": "@jupyter-widgets/base",
            "_view_module_version": "1.2.0",
            "_view_name": "LayoutView",
            "align_content": null,
            "align_items": null,
            "align_self": null,
            "border": null,
            "bottom": null,
            "display": null,
            "flex": null,
            "flex_flow": null,
            "grid_area": null,
            "grid_auto_columns": null,
            "grid_auto_flow": null,
            "grid_auto_rows": null,
            "grid_column": null,
            "grid_gap": null,
            "grid_row": null,
            "grid_template_areas": null,
            "grid_template_columns": null,
            "grid_template_rows": null,
            "height": null,
            "justify_content": null,
            "justify_items": null,
            "left": null,
            "margin": null,
            "max_height": null,
            "max_width": null,
            "min_height": null,
            "min_width": null,
            "object_fit": null,
            "object_position": null,
            "order": null,
            "overflow": null,
            "overflow_x": null,
            "overflow_y": null,
            "padding": null,
            "right": null,
            "top": null,
            "visibility": null,
            "width": null
          }
        },
        "bc8c6e933653406a8f8a446f7d963337": {
          "model_module": "@jupyter-widgets/controls",
          "model_name": "DescriptionStyleModel",
          "model_module_version": "1.5.0",
          "state": {
            "_model_module": "@jupyter-widgets/controls",
            "_model_module_version": "1.5.0",
            "_model_name": "DescriptionStyleModel",
            "_view_count": null,
            "_view_module": "@jupyter-widgets/base",
            "_view_module_version": "1.2.0",
            "_view_name": "StyleView",
            "description_width": ""
          }
        }
      }
    }
  },
  "cells": [
    {
      "cell_type": "markdown",
      "metadata": {
        "id": "view-in-github",
        "colab_type": "text"
      },
      "source": [
        "<a href=\"https://colab.research.google.com/github/rtanas/colab_dashboard_interactive/blob/main/dashboard.ipynb\" target=\"_parent\"><img src=\"https://colab.research.google.com/assets/colab-badge.svg\" alt=\"Open In Colab\"/></a>"
      ]
    },
    {
      "cell_type": "markdown",
      "metadata": {
        "id": "cCjAe20VdlxO"
      },
      "source": [
        "#Python - Non-technical introduction\n",
        "\n",
        "##SOLUTION Exercise Day 1 Block 5: \"A picture is worth a thousand words: How to create a plot (matplotlib)?\"\n",
        "\n",
        "This file provides the solutions to the exercises in the lectures.\n",
        "\n",
        "*Note:* If you want to make changes to this document, you need to save your own copy using the \"Save copy in Drive\" command in the \"File\" menu."
      ]
    },
    {
      "cell_type": "markdown",
      "metadata": {
        "id": "qpmzcnuFlexj"
      },
      "source": [
        "###Preparation\n",
        "\n",
        "**Make sure to run the follwing code before continuing.** Code will prepare everything (load data, ...)."
      ]
    },
    {
      "cell_type": "code",
      "metadata": {
        "id": "sD_8-FV6lZVl"
      },
      "source": [
        "#load pandas\n",
        "import pandas as pd\n",
        "myData=pd.read_csv(\"https://raw.githubusercontent.com/bachmannpatrick/Python-Class/master/data/transactions.csv\")"
      ],
      "execution_count": 4,
      "outputs": []
    },
    {
      "cell_type": "markdown",
      "metadata": {
        "id": "XW-Ewl7skxDp"
      },
      "source": [
        "###21 - Creating basic plots"
      ]
    },
    {
      "cell_type": "code",
      "source": [
        "pip install ipympl"
      ],
      "metadata": {
        "id": "KxthOBKBzTaG"
      },
      "execution_count": null,
      "outputs": []
    },
    {
      "cell_type": "code",
      "source": [
        "from google.colab import output\n",
        "output.enable_custom_widget_manager()\n",
        "\n",
        "## Support for third party widgets (widgets outside of the ipywidgets package) needs to be enabled separately. Support for these widgets will be loaded from a CDN external from Colab.\n"
      ],
      "metadata": {
        "id": "VgLh77k-zxzD"
      },
      "execution_count": 7,
      "outputs": []
    },
    {
      "cell_type": "code",
      "source": [
        "%matplotlib widget\n",
        "import ipywidgets as widgets\n",
        "import matplotlib.pyplot as plt\n",
        "\n",
        "w = widgets.Dropdown(\n",
        "    options=['PurchAmount', 'Cost', \"Quantity\"],\n",
        "    value='PurchAmount',\n",
        "    description='Variable:',\n",
        "    disabled=False,\n",
        ")\n",
        "display(w)"
      ],
      "metadata": {
        "colab": {
          "base_uri": "https://localhost:8080/",
          "height": 69,
          "referenced_widgets": [
            "66a1769498d54d0b8376ddac3b26e718",
            "055376b277d746d7bb3cc58edb408d79",
            "bc8c6e933653406a8f8a446f7d963337"
          ]
        },
        "id": "kprtZ1rMe-Vq",
        "outputId": "6e404741-ab46-4b51-f4fe-e3ac2ecd3acb"
      },
      "execution_count": 31,
      "outputs": [
        {
          "output_type": "display_data",
          "data": {
            "text/plain": [
              "Dropdown(description='Variable:', options=('PurchAmount', 'Cost', 'Quantity'), value='PurchAmount')"
            ],
            "application/vnd.jupyter.widget-view+json": {
              "version_major": 2,
              "version_minor": 0,
              "model_id": "66a1769498d54d0b8376ddac3b26e718"
            }
          },
          "metadata": {
            "application/vnd.jupyter.widget-view+json": {
              "colab": {
                "custom_widget_manager": {
                  "url": "https://ssl.gstatic.com/colaboratory-static/widgets/colab-cdn-widget-manager/d2e234f7cc04bf79/manager.min.js"
                }
              }
            }
          }
        }
      ]
    },
    {
      "cell_type": "code",
      "source": [
        "def update_plot(change):\n",
        "    f = plt.figure()\n",
        "    plt.clf()\n",
        "    plt.boxplot(x=myData[change[\"new\"]])\n",
        "    plt.show()\n",
        "    print(change[\"new\"])\n",
        "\n",
        "w.observe(update_plot, 'value')"
      ],
      "metadata": {
        "id": "WbOmgxCarrwm"
      },
      "execution_count": 30,
      "outputs": []
    },
    {
      "cell_type": "markdown",
      "metadata": {
        "id": "lMP5naoWk3B_"
      },
      "source": [
        "1. Create a boxplot for the variable PurchAmount(x)."
      ]
    },
    {
      "cell_type": "code",
      "metadata": {
        "id": "hyWqP8ohk-Qr",
        "colab": {
          "base_uri": "https://localhost:8080/",
          "height": 286
        },
        "outputId": "b2d753d3-1098-41bc-f03f-4097733c2530"
      },
      "source": [
        "import matplotlib.pyplot as plt\n",
        "plt.boxplot(x=myData[w.value])\n",
        "plt.show()"
      ],
      "execution_count": 35,
      "outputs": [
        {
          "output_type": "display_data",
          "data": {
            "text/plain": [
              "<Figure size 432x288 with 1 Axes>"
            ],
            "image/png": "[encoded data removed]"
          },
          "metadata": {
            "needs_background": "light"
          }
        }
      ]
    },
    {
      "cell_type": "markdown",
      "metadata": {
        "id": "lAKGNNSRk6r6"
      },
      "source": [
        "2. Create a scatter plot for the variables `Quantity`(x) and `PurchAmount`(y). Can you observe any correlation?"
      ]
    },
    {
      "cell_type": "code",
      "metadata": {
        "id": "mZiUd7DLk-z-",
        "colab": {
          "base_uri": "https://localhost:8080/",
          "height": 265
        },
        "outputId": "ce4e1dbe-d035-458a-84dd-4f4aa44f6831"
      },
      "source": [
        "plt.scatter(x=myData[\"Quantity\"], y=myData[\"PurchAmount\"])\n",
        "plt.show()"
      ],
      "execution_count": null,
      "outputs": [
        {
          "output_type": "display_data",
          "data": {
            "image/png": "[encoded data removed]",
            "text/plain": [
              "<Figure size 432x288 with 1 Axes>"
            ]
          },
          "metadata": {
            "needs_background": "light"
          }
        }
      ]
    },
    {
      "cell_type": "markdown",
      "metadata": {
        "id": "Znf2Ppn9qE66"
      },
      "source": [
        "###22 - Format basic plots"
      ]
    },
    {
      "cell_type": "markdown",
      "metadata": {
        "id": "jf-326eymI_W"
      },
      "source": [
        "1.Format your earlier scatter plots in an appealing way.  Choose appropriate limits for the axes.  Consider changing colors, sizes, and fonts for data points and text labels.\n"
      ]
    },
    {
      "cell_type": "code",
      "metadata": {
        "id": "mvkjTqZ8mXvV",
        "colab": {
          "base_uri": "https://localhost:8080/",
          "height": 315
        },
        "outputId": "2b81d7e8-7905-4336-e263-ad930f70f202"
      },
      "source": [
        "# Plot 1\n",
        "plt.boxplot(x=myData[w.value])\n",
        "plt.title(\"Boxplot of variable \" + w.value)\n",
        "plt.xlabel(w.value, size=10,fontweight='bold')\n",
        "plt.ylabel(\"Frequency\", size=10,fontweight='bold')\n",
        "plt.show()"
      ],
      "execution_count": 22,
      "outputs": [
        {
          "output_type": "display_data",
          "data": {
            "text/plain": [
              "<Figure size 432x288 with 1 Axes>"
            ],
            "image/png": "[encoded data removed]"
          },
          "metadata": {
            "needs_background": "light"
          }
        }
      ]
    },
    {
      "cell_type": "code",
      "metadata": {
        "id": "BZQCwEPwmYcR",
        "colab": {
          "base_uri": "https://localhost:8080/",
          "height": 315
        },
        "outputId": "0fded3f0-2f37-4510-eb3d-f00d434f5f34"
      },
      "source": [
        "#%% Plot 2\n",
        "plt.scatter(x=myData[\"Quantity\"], y=myData[\"PurchAmount\"], color=\"green\")\n",
        "plt.title(\"Quantity by Purchase Amount\", style=\"italic\")\n",
        "plt.xlim(0,20) # One outlier will not be plotted\n",
        "plt.xlabel(\"Quantity\", size=10)\n",
        "plt.ylabel(\"Purchase Amount\", size=10)\n",
        "plt.show()"
      ],
      "execution_count": 20,
      "outputs": [
        {
          "output_type": "display_data",
          "data": {
            "text/plain": [
              "<Figure size 432x288 with 1 Axes>"
            ],
            "image/png": "[encoded data removed]"
          },
          "metadata": {
            "needs_background": "light"
          }
        }
      ]
    },
    {
      "cell_type": "markdown",
      "metadata": {
        "id": "L7WgG_s2mdqq"
      },
      "source": [
        "###23 - Adding further features to plots"
      ]
    },
    {
      "cell_type": "markdown",
      "metadata": {
        "id": "Pk9VLgufnl8B"
      },
      "source": [
        "1. Plot (a) the scatter plot  of Cost and `Purchase Amount` and (b) a historgram of `Purchase Amount` and in the same graph.\n",
        "\n"
      ]
    },
    {
      "cell_type": "code",
      "metadata": {
        "id": "s6MJ4ETunsVa",
        "colab": {
          "base_uri": "https://localhost:8080/",
          "height": 281
        },
        "outputId": "8ebfe1cd-06f9-454c-895d-b90cf8a6a507"
      },
      "source": [
        "plt.subplot(1,2,1) \n",
        "plt.hist(myData[\"PurchAmount\"], color=\"green\")\n",
        "plt.title(\"Hist PurchAmount\")\n",
        "plt.subplot(1,2,2)\n",
        "plt.plot(myData[\"PurchAmount\"],myData[\"Quantity\"], \"o\")\n",
        "plt.title(\"Quantity by PurchAmount\")\n",
        "plt.show()"
      ],
      "execution_count": null,
      "outputs": [
        {
          "output_type": "display_data",
          "data": {
            "image/png": "[encoded data removed]",
            "text/plain": [
              "<Figure size 432x288 with 2 Axes>"
            ]
          },
          "metadata": {
            "tags": [],
            "needs_background": "light"
          }
        }
      ]
    }
  ]
}